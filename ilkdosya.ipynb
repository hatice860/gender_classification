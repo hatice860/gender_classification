{
  "nbformat": 4,
  "nbformat_minor": 0,
  "metadata": {
    "colab": {
      "name": "ilkdosya.ipynb",
      "provenance": [],
      "collapsed_sections": [],
      "toc_visible": true,
      "authorship_tag": "ABX9TyNgyER3gUNuAprGJyeZ7d0i",
      "include_colab_link": true
    },
    "kernelspec": {
      "name": "python3",
      "display_name": "Python 3"
    },
    "language_info": {
      "name": "python"
    }
  },
  "cells": [
    {
      "cell_type": "markdown",
      "metadata": {
        "id": "view-in-github",
        "colab_type": "text"
      },
      "source": [
        "<a href=\"https://colab.research.google.com/github/hatice860/gender_classification/blob/main/ilkdosya.ipynb\" target=\"_parent\"><img src=\"https://colab.research.google.com/assets/colab-badge.svg\" alt=\"Open In Colab\"/></a>"
      ]
    },
    {
      "cell_type": "code",
      "source": [
        "import nltk.classify.util\n",
        "from nltk.classify import NaiveBayesClassifier\n",
        "from nltk.corpus import names\n",
        "nltk.download('names')\n",
        "\n",
        "def gender_features(word):\n",
        "  return {'last_letter': word[-1]}\n",
        "\n",
        "#load data and training \n",
        "\n",
        "names = ([(name, 'male') for name in names.words('male.txt')] + \n",
        "\t [(name, 'female') for name in names.words('female.txt')])\n",
        "\n",
        "featuresets = [(gender_features(n), g) for (n, g) in names]\n",
        "train_set = featuresets\n",
        "classifier = nltk.NaiveBayesClassifier.train(train_set)\n",
        "\n",
        "print(classifier.classify(gender_features('kevin')))\n"
      ],
      "metadata": {
        "colab": {
          "base_uri": "https://localhost:8080/"
        },
        "id": "PHnjMJ3qjvxX",
        "outputId": "ba318e1b-3327-40e2-a2c8-8677ca312a2b"
      },
      "execution_count": 3,
      "outputs": [
        {
          "output_type": "stream",
          "name": "stdout",
          "text": [
            "[nltk_data] Downloading package names to /root/nltk_data...\n",
            "[nltk_data]   Package names is already up-to-date!\n",
            "male\n"
          ]
        }
      ]
    },
    {
      "cell_type": "code",
      "execution_count": null,
      "metadata": {
        "id": "YNKp7pmVeyB4",
        "colab": {
          "base_uri": "https://localhost:8080/"
        },
        "outputId": "e5904600-7376-4b48-e93c-b8fda090f4f7"
      },
      "outputs": [
        {
          "output_type": "stream",
          "name": "stdout",
          "text": [
            "[nltk_data] Downloading package punkt to /root/nltk_data...\n",
            "[nltk_data]   Unzipping tokenizers/punkt.zip.\n",
            "[nltk_data] Downloading package stopwords to /root/nltk_data...\n",
            "[nltk_data]   Unzipping corpora/stopwords.zip.\n",
            "['Veri Bilimi okuluna hoşgeldiniz.', 'Bugünkü blog yazısının konusu Natural language toolkit']\n",
            "['Veri', 'Bilimi', 'okuluna', 'hoşgeldiniz', '.', 'Bugünkü', 'blog', 'yazısının', 'konusu', 'Natural', 'language', 'toolkit']\n",
            "gaming:game\n",
            ",:,\n",
            "the:the\n",
            "gamers:gamer\n",
            "play:play\n",
            "games:game\n",
            "['Ali', 'Ayşe', 'okula', 'gitti', '.']\n"
          ]
        }
      ],
      "source": [
        "import nltk\n",
        "nltk.download('punkt')\n",
        "from nltk.tokenize import word_tokenize, sent_tokenize\n",
        "from nltk.stem import PorterStemmer\n",
        "nltk.download('stopwords')\n",
        "from nltk.corpus import stopwords\n",
        "\n",
        "\n",
        "sentence=\"Veri Bilimi okuluna hoşgeldiniz. Bugünkü blog yazısının konusu Natural language toolkit\"\n",
        "print(sent_tokenize(sentence))\n",
        "print(word_tokenize(sentence))\n",
        "\n",
        "ps=PorterStemmer()\n",
        "words = \"gaming, the gamers play games\"\n",
        "words = word_tokenize(words)\n",
        "\n",
        "for word in words:\n",
        "    print(word +\":\" +ps.stem(word))\n",
        "\n",
        "stopWords = set(stopwords.words('turkish'))\n",
        "sentence= \"Ali ile Ayşe okula  gitti.\"\n",
        "words = word_tokenize(sentence)\n",
        "wordsFiltered = []\n",
        "\n",
        "for w in words:\n",
        "    if w not in stopWords:\n",
        "      wordsFiltered.append(w)\n",
        "\n",
        "print(wordsFiltered)"
      ]
    }
  ]
}